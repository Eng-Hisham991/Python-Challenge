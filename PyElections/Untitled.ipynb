{
 "cells": [
  {
   "cell_type": "code",
   "execution_count": 66,
   "metadata": {},
   "outputs": [],
   "source": [
    "# Keys= [\"Sylvester Turner\", \"Tony Buzbee\", \"Bill King\", \"Dwight A. Boykins\", \"Victoria Romero\", \"Sue Lovell\", \"Demetria Smith\", \"Roy J. Vasquez\",\n",
    "        #    \"Kendall Baker\", \"Derrick Broze\", \"Naoufal Houjami\", \"Johnny “J.T.” Taylor\"]\n",
    "import os\n",
    "import csv\n",
    "# from collections import Counter\n",
    "# candidates_list=[]\n",
    "# counter={}\n",
    "# data= []\n",
    "csv_path= os.path.join('..', 'PyElections', 'houston_election_data.csv')\n",
    "with open(csv_path, newline='', mode= 'r') as csvfile:\n",
    "    csvreader= csv.DictReader(csvfile)\n",
    "    # csv_header = next(csvreader)\n",
    "    for row in csvreader:\n",
    "        print (row['Candidates'])\n",
    "        \n",
    "        "
   ]
  },
  {
   "cell_type": "code",
   "execution_count": null,
   "metadata": {},
   "outputs": [],
   "source": [
    "print(len(range(12)))"
   ]
  },
  {
   "cell_type": "code",
   "execution_count": null,
   "metadata": {},
   "outputs": [],
   "source": [
    "for i in range(12):\n",
    "    print(i)"
   ]
  },
  {
   "cell_type": "code",
   "execution_count": null,
   "metadata": {},
   "outputs": [],
   "source": [
    "dicts = {}\n",
    "keys = range(4)\n",
    "values = [\"\"]\n",
    "for i in keys:\n",
    "        dicts[i] = values[i]\n",
    "print(dicts)"
   ]
  },
  {
   "cell_type": "code",
   "execution_count": null,
   "metadata": {},
   "outputs": [],
   "source": [
    "a={\"A\":1, \"b\":2, \"C\":4}\n",
    "print(a.values())"
   ]
  },
  {
   "cell_type": "code",
   "execution_count": null,
   "metadata": {},
   "outputs": [],
   "source": []
  }
 ],
 "metadata": {
  "kernelspec": {
   "display_name": "Python 3.7.6 64-bit ('PythonData': conda)",
   "language": "python",
   "name": "python37664bitpythondataconda2da74054177a4afea1bda1efa0f951dd"
  },
  "language_info": {
   "codemirror_mode": {
    "name": "ipython",
    "version": 3
   },
   "file_extension": ".py",
   "mimetype": "text/x-python",
   "name": "python",
   "nbconvert_exporter": "python",
   "pygments_lexer": "ipython3",
   "version": "3.7.6"
  }
 },
 "nbformat": 4,
 "nbformat_minor": 2
}
