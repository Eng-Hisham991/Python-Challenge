{
 "cells": [
  {
   "cell_type": "code",
   "execution_count": null,
   "metadata": {},
   "outputs": [],
   "source": [
    "import os\n",
    "import csv\n",
    "from collections import Counter\n",
    "A=[]\n",
    "z=0\n",
    "\n",
    "csv_path= os.path.join('..', 'PyElections', 'houston_election_data.csv')\n",
    "with open(csv_path, newline='', mode= 'r', encoding=\"utf8\") as csvfile:\n",
    "    csvreader= csv.DictReader(csvfile)\n",
    "    # next(csvreader)\n",
    "    for row in csvreader:\n",
    "        A.append(row['Candidate'])\n",
    "    print(A)    \n",
    "#         for name in A:\n",
    "#             if name == 'Sylvester Turner':\n",
    "#                 z+=1\n",
    "#                 count_of_Sylvester_Turner = z\n",
    "#             if name == 'Tony Buzbee':\n",
    "#                 z+=1\n",
    "#                 count_of_Tony_Buzbee = z\n",
    "#         print(count_of_Sylvester_Turner)\n",
    "            "
   ]
  },
  {
   "cell_type": "code",
   "execution_count": null,
   "metadata": {},
   "outputs": [],
   "source": []
  },
  {
   "cell_type": "code",
   "execution_count": null,
   "metadata": {},
   "outputs": [],
   "source": []
  }
 ],
 "metadata": {
  "kernelspec": {
   "display_name": "Python 3.7.6 64-bit ('PythonData': conda)",
   "language": "python",
   "name": "python37664bitpythondataconda2da74054177a4afea1bda1efa0f951dd"
  },
  "language_info": {
   "codemirror_mode": {
    "name": "ipython",
    "version": 3
   },
   "file_extension": ".py",
   "mimetype": "text/x-python",
   "name": "python",
   "nbconvert_exporter": "python",
   "pygments_lexer": "ipython3",
   "version": "3.7.6"
  }
 },
 "nbformat": 4,
 "nbformat_minor": 2
}
